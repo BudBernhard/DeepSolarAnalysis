{
 "cells": [
  {
   "cell_type": "code",
   "execution_count": 24,
   "metadata": {},
   "outputs": [],
   "source": [
    "import pandas as pd\n",
    "import matplotlib.pyplot as plt\n",
    "import numpy as np\n",
    "## for correlation matrices\n",
    "import seaborn as sns\n",
    "%matplotlib inline\n",
    "## for linear models\n",
    "import statsmodels.api as sm\n",
    "from pandas.plotting import scatter_matrix\n",
    "from sklearn.metrics import roc_curve, auc\n",
    "\n",
    "from sklearn.model_selection import train_test_split\n",
    "from sklearn.linear_model import LogisticRegression\n",
    "from sklearn.model_selection import GridSearchCV\n",
    "from yellowbrick.classifier import ConfusionMatrix\n",
    "\n",
    "\n",
    "from sklearn.preprocessing import StandardScaler\n",
    "from sklearn.feature_selection import SelectFromModel\n",
    "from sklearn import preprocessing\n",
    "\n",
    "from imblearn.over_sampling import SMOTE\n",
    "\n",
    "from sklearn.metrics import classification_report\n",
    "\n"
   ]
  },
  {
   "cell_type": "code",
   "execution_count": 2,
   "metadata": {},
   "outputs": [],
   "source": [
    "# Must download from http://web.stanford.edu/group/deepsolar/deepsolar_tract.csv and delete the first \",\"\n",
    "df = pd.read_csv(\"deepsolar_tract.csv\", encoding = \"utf-8\")\n"
   ]
  },
  {
   "cell_type": "code",
   "execution_count": 3,
   "metadata": {},
   "outputs": [],
   "source": [
    "# Remove all deepsolar inputs\n",
    "\n",
    "df = df.drop(columns=['solar_system_count'], axis = 1)\n",
    "df = df.drop(columns=['total_panel_area'], axis = 1)\n",
    "df = df.drop(columns=['solar_panel_area_per_capita'], axis =1)\n",
    "\n",
    "df = df.drop(columns=['solar_panel_area_divided_by_area'], axis = 1)\n",
    "df = df.drop(columns=['tile_count_residential'], axis = 1)\n",
    "df = df.drop(columns=['tile_count_nonresidential'], axis = 1)\n",
    "df = df.drop(columns=['solar_system_count_residential'], axis =1)\n",
    "\n",
    "df = df.drop(columns=['solar_system_count_nonresidential'], axis = 1)\n",
    "df = df.drop(columns=['total_panel_area_residential'], axis = 1)\n",
    "df = df.drop(columns=['total_panel_area_nonresidential'], axis = 1)\n",
    "df = df.drop(columns=['number_of_solar_system_per_household'], axis =1)\n",
    "\n",
    "# Remove all unique identifiers, objects, and booleans\n",
    "df = df.drop(columns=['county',\n",
    "                      'state',\n",
    "                     'electricity_price_transportation',\n",
    "                     'voting_2016_dem_win',\n",
    "                     'voting_2012_dem_win',\n",
    "                     'fips'])\n",
    "\n"
   ]
  },
  {
   "cell_type": "code",
   "execution_count": 4,
   "metadata": {},
   "outputs": [],
   "source": [
    "# tilesLargerThanZero = range(1,4469)\n",
    "df['has_tiles'] = (df.tile_count > 0).mul(1)"
   ]
  },
  {
   "cell_type": "code",
   "execution_count": 5,
   "metadata": {},
   "outputs": [],
   "source": [
    "df = df.drop('tile_count', axis = 1)"
   ]
  },
  {
   "cell_type": "code",
   "execution_count": 6,
   "metadata": {},
   "outputs": [],
   "source": [
    "df = df.dropna()"
   ]
  },
  {
   "cell_type": "markdown",
   "metadata": {},
   "source": [
    "# Balance"
   ]
  },
  {
   "cell_type": "code",
   "execution_count": 7,
   "metadata": {},
   "outputs": [
    {
     "name": "stdout",
     "output_type": "stream",
     "text": [
      "1    31209\n",
      "0    31209\n",
      "Name: has_tiles, dtype: int64 \n",
      "\n",
      " 1    10392\n",
      "0     3133\n",
      "Name: has_tiles, dtype: int64\n"
     ]
    }
   ],
   "source": [
    "# Define X and y\n",
    "y = df['has_tiles']\n",
    "X = df.drop('has_tiles', axis = 1)\n",
    "# Split the data into training and test sets\n",
    "# from sklearn.model_selection import train_test_split\n",
    "\n",
    "#ADD STRATIFIED HERE\n",
    "\n",
    "X_train, X_test, y_train, y_test = train_test_split(X, y, random_state=17)\n",
    "#print(y_train.value_counts(),'\\n\\n', y_test.value_counts())\n",
    "\n",
    "# SMOTE\n",
    "smt = SMOTE()\n",
    "X_train, y_train = smt.fit_sample(X_train, y_train)\n",
    "print(y_train.value_counts(),'\\n\\n', y_test.value_counts())"
   ]
  },
  {
   "cell_type": "code",
   "execution_count": null,
   "metadata": {},
   "outputs": [],
   "source": []
  },
  {
   "cell_type": "markdown",
   "metadata": {},
   "source": [
    "# Scale"
   ]
  },
  {
   "cell_type": "code",
   "execution_count": 8,
   "metadata": {},
   "outputs": [
    {
     "data": {
      "text/plain": [
       "StandardScaler(copy=True, with_mean=True, with_std=True)"
      ]
     },
     "execution_count": 8,
     "metadata": {},
     "output_type": "execute_result"
    }
   ],
   "source": [
    "# col_names = list(df.columns)\n",
    "# scaler = preprocessing.MinMaxScaler()\n",
    "# Xtrain = scaler.fit_transform(X_train)\n",
    "# Xtest = scaler.transform(X_test)\n",
    "\n",
    "scaler = StandardScaler()\n",
    "scaler.fit(X_train.fillna(0))\n"
   ]
  },
  {
   "cell_type": "code",
   "execution_count": 9,
   "metadata": {},
   "outputs": [
    {
     "data": {
      "text/plain": [
       "SelectFromModel(estimator=LogisticRegression(C=0.001, class_weight=None,\n",
       "                                             dual=False, fit_intercept=True,\n",
       "                                             intercept_scaling=1, l1_ratio=None,\n",
       "                                             max_iter=100, multi_class='auto',\n",
       "                                             n_jobs=None, penalty='l1',\n",
       "                                             random_state=None, solver='saga',\n",
       "                                             tol=0.0001, verbose=0,\n",
       "                                             warm_start=False),\n",
       "                max_features=None, norm_order=1, prefit=False, threshold=None)"
      ]
     },
     "execution_count": 9,
     "metadata": {},
     "output_type": "execute_result"
    }
   ],
   "source": [
    "sel_ = SelectFromModel(LogisticRegression(C=.001, solver = 'saga', penalty='l1'))\n",
    "sel_.fit(scaler.transform(X_train.fillna(0)), y_train)"
   ]
  },
  {
   "cell_type": "raw",
   "metadata": {},
   "source": [
    "selected_feat = X_train.columns[(sel_.get_support())]\n",
    "print('total features: {}'.format((X_train.shape[1])))\n",
    "print('selected features: {}'.format(len(selected_feat)))\n",
    "print('features with coefficients shrank to zero: {}'.format(\n",
    "      np.sum(sel_.estimator_.coef_ == 0)))"
   ]
  },
  {
   "cell_type": "code",
   "execution_count": 11,
   "metadata": {},
   "outputs": [
    {
     "data": {
      "text/plain": [
       "Index(['average_household_income', 'education_bachelor',\n",
       "       'education_population', 'heating_fuel_gas', 'population',\n",
       "       'population_density', 'race_two_more',\n",
       "       'education_high_school_graduate_rate', 'education_bachelor_rate',\n",
       "       'education_master_rate', 'education_professional_school_rate',\n",
       "       'heating_fuel_coal_coke_rate', 'heating_fuel_other_rate',\n",
       "       'electricity_price_industrial', 'electricity_consume_total',\n",
       "       'housing_unit_median_gross_rent', 'lon', 'heating_design_temperature',\n",
       "       'relative_humidity', 'atmospheric_pressure', 'age_more_than_85_rate',\n",
       "       'occupation_construction_rate', 'occupation_administrative_rate',\n",
       "       'occupation_arts_rate', 'occupation_agriculture_rate',\n",
       "       'occupancy_vacant_rate', 'mortgage_with_rate',\n",
       "       'travel_time_less_than_10_rate', 'travel_time_10_19_rate',\n",
       "       'travel_time_30_39_rate', 'travel_time_40_59_rate',\n",
       "       'travel_time_average', 'incentive_count_nonresidential',\n",
       "       'incentive_residential_state_level', 'feedin_tariff', 'sales_tax',\n",
       "       'rebate'],\n",
       "      dtype='object')"
      ]
     },
     "execution_count": 11,
     "metadata": {},
     "output_type": "execute_result"
    }
   ],
   "source": [
    "remaining_feats = X_train.columns[(sel_.estimator_.coef_ != 0).ravel().tolist()]\n",
    "remaining_feats"
   ]
  },
  {
   "cell_type": "code",
   "execution_count": 14,
   "metadata": {},
   "outputs": [
    {
     "name": "stderr",
     "output_type": "stream",
     "text": [
      "C:\\Users\\BudBe\\AppData\\Roaming\\Python\\Python37\\site-packages\\sklearn\\linear_model\\_sag.py:330: ConvergenceWarning: The max_iter was reached which means the coef_ did not converge\n",
      "  \"the coef_ did not converge\", ConvergenceWarning)\n",
      "C:\\Users\\BudBe\\AppData\\Roaming\\Python\\Python37\\site-packages\\sklearn\\base.py:197: FutureWarning: From version 0.24, get_params will raise an AttributeError if a parameter cannot be retrieved as an instance attribute. Previously it would return None.\n",
      "  FutureWarning)\n"
     ]
    },
    {
     "data": {
      "image/png": "[encoded data removed]",
      "text/plain": [
       "<Figure size 432x288 with 1 Axes>"
      ]
     },
     "metadata": {
      "needs_background": "light"
     },
     "output_type": "display_data"
    },
    {
     "data": {
      "text/plain": [
       "<matplotlib.axes._subplots.AxesSubplot at 0x2e42e1e79e8>"
      ]
     },
     "execution_count": 14,
     "metadata": {},
     "output_type": "execute_result"
    }
   ],
   "source": [
    "clf = LogisticRegression(C=.001, solver = 'saga', penalty='l1')\n",
    "clf.fit(X_train, y_train)\n",
    "cm = ConfusionMatrix(clf)\n",
    "cm.fit(X_train, y_train)\n",
    "\n",
    "# To create the ConfusionMatrix, we need some test data. Score runs predict() on the data\n",
    "# and then creates the confusion_matrix from scikit-learn.\n",
    "cm.score(X_test, y_test)\n",
    "\n",
    "# How did we do?\n",
    "cm.show()"
   ]
  },
  {
   "cell_type": "code",
   "execution_count": 26,
   "metadata": {},
   "outputs": [
    {
     "data": {
      "text/plain": [
       "0.668909426987061"
      ]
     },
     "execution_count": 26,
     "metadata": {},
     "output_type": "execute_result"
    }
   ],
   "source": [
    "cm.score(X_test, y_test)"
   ]
  },
  {
   "cell_type": "code",
   "execution_count": 16,
   "metadata": {},
   "outputs": [
    {
     "name": "stdout",
     "output_type": "stream",
     "text": [
      "0.8850260416666667\n",
      "0.6540608160123171\n"
     ]
    }
   ],
   "source": [
    "TP = 6797\n",
    "TN = 2250\n",
    "FN = 3595\n",
    "FP = 883\n",
    "\n",
    "precision = TP/(TP+FP)\n",
    "recall = TP/(TP+FN)\n",
    "print(precision)\n",
    "print(recall)"
   ]
  },
  {
   "cell_type": "code",
   "execution_count": 27,
   "metadata": {},
   "outputs": [
    {
     "name": "stdout",
     "output_type": "stream",
     "text": [
      "              precision    recall  f1-score   support\n",
      "\n",
      "           0       0.38      0.72      0.50      3133\n",
      "           1       0.89      0.65      0.75     10392\n",
      "\n",
      "    accuracy                           0.67     13525\n",
      "   macro avg       0.63      0.69      0.63     13525\n",
      "weighted avg       0.77      0.67      0.69     13525\n",
      "\n"
     ]
    }
   ],
   "source": [
    "y_pred = clf.predict(X_test)\n",
    "print(classification_report(y_test, y_pred))"
   ]
  },
  {
   "cell_type": "code",
   "execution_count": null,
   "metadata": {},
   "outputs": [],
   "source": []
  }
 ],
 "metadata": {
  "kernelspec": {
   "display_name": "Python 3",
   "language": "python",
   "name": "python3"
  },
  "language_info": {
   "codemirror_mode": {
    "name": "ipython",
    "version": 3
   },
   "file_extension": ".py",
   "mimetype": "text/x-python",
   "name": "python",
   "nbconvert_exporter": "python",
   "pygments_lexer": "ipython3",
   "version": "3.7.3"
  }
 },
 "nbformat": 4,
 "nbformat_minor": 2
}
