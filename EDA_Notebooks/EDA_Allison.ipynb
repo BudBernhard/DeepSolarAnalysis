{
 "cells": [
  {
   "cell_type": "code",
   "execution_count": null,
   "metadata": {},
   "outputs": [],
   "source": [
    "import pandas as pd\n",
    "import matplotlib.pyplot as plt\n",
    "import numpy as np\n",
    "## for correlation matrices\n",
    "import seaborn as sns\n",
    "%matplotlib inline\n",
    "## for linear models\n",
    "import statsmodels.api as sm\n",
    "from pandas.plotting import scatter_matrix\n",
    "from sklearn.metrics import roc_curve, auc\n",
    "\n",
    "from sklearn.model_selection import train_test_split\n",
    "from sklearn.linear_model import LogisticRegression\n",
    "from sklearn.model_selection import GridSearchCV\n",
    "from yellowbrick.classifier import ConfusionMatrix\n",
    "\n",
    "from sklearn.pipeline import Pipeline\n",
    "from sklearn.tree import DecisionTreeClassifier\n",
    "from sklearn.ensemble import RandomForestClassifier\n",
    "from sklearn.svm import SVC\n",
    "from sklearn.neighbors import KNeighborsClassifier\n",
    "\n",
    "from sklearn.preprocessing import StandardScaler\n",
    "from sklearn.feature_selection import SelectFromModel\n",
    "from sklearn import preprocessing\n",
    "\n",
    "# from imblearn.over_sampling import SMOTE\n",
    "\n",
    "from sklearn.metrics import classification_report\n",
    "\n",
    "%run ../pyfiles/data_cleaning.py\n",
    "%run ../pyfiles/grid_search.py"
   ]
  },
  {
   "cell_type": "code",
   "execution_count": 31,
   "metadata": {},
   "outputs": [],
   "source": [
    "from imblearn.over_sampling import SMOTE"
   ]
  },
  {
   "cell_type": "code",
   "execution_count": 32,
   "metadata": {},
   "outputs": [],
   "source": [
    "# Set global random seed\n",
    "np.random.seed(123)"
   ]
  },
  {
   "cell_type": "markdown",
   "metadata": {},
   "source": [
    "### Import data and drop redundant data (rates)"
   ]
  },
  {
   "cell_type": "code",
   "execution_count": 33,
   "metadata": {},
   "outputs": [],
   "source": [
    "# import data\n",
    "orig = pd.read_csv('../../data/deepsolar_tract.csv', encoding = \"utf-8\")\n",
    "# orig.drop('Unnamed: 0', axis = 1, inplace = True)\n",
    "\n",
    "# fips is a unique identifier\n",
    "# Set fips as index \n",
    "\n",
    "orig.set_index(keys = 'fips', inplace = True)"
   ]
  },
  {
   "cell_type": "markdown",
   "metadata": {},
   "source": [
    "### Add more data on opportunity zones"
   ]
  },
  {
   "cell_type": "code",
   "execution_count": 34,
   "metadata": {},
   "outputs": [],
   "source": [
    "df = drop_redundant_columns(orig)"
   ]
  },
  {
   "cell_type": "code",
   "execution_count": 35,
   "metadata": {},
   "outputs": [],
   "source": [
    "# Create our target column 'has_tiles', and drop additional redundant columns\n",
    "\n",
    "df = create_has_tiles_target_column(df)"
   ]
  },
  {
   "cell_type": "code",
   "execution_count": 36,
   "metadata": {},
   "outputs": [],
   "source": [
    "# # Figure out which variables are highly correlated, remove the most correlated ones one by one\n",
    "\n",
    "# corr = pd.DataFrame((df.corr() > 0.8).sum())\n",
    "# corr.sort_values(by = 0, ascending = False)[0:5]"
   ]
  },
  {
   "cell_type": "code",
   "execution_count": 37,
   "metadata": {},
   "outputs": [],
   "source": [
    "# # Add highly correlated variables to list 'to_drop'\n",
    "# to_drop = ['poverty_family_count','education_population','population', 'household_count','housing_unit_occupied_count', 'electricity_price_overall']"
   ]
  },
  {
   "cell_type": "code",
   "execution_count": 38,
   "metadata": {},
   "outputs": [],
   "source": [
    "# # Drop highly colinear variables\n",
    "# df = df.drop(to_drop, axis = 1)"
   ]
  },
  {
   "cell_type": "code",
   "execution_count": 39,
   "metadata": {},
   "outputs": [],
   "source": [
    "# VIF score"
   ]
  },
  {
   "cell_type": "markdown",
   "metadata": {},
   "source": [
    "### Checking for missing values"
   ]
  },
  {
   "cell_type": "code",
   "execution_count": 40,
   "metadata": {},
   "outputs": [
    {
     "data": {
      "text/html": [
       "<div>\n",
       "<style scoped>\n",
       "    .dataframe tbody tr th:only-of-type {\n",
       "        vertical-align: middle;\n",
       "    }\n",
       "\n",
       "    .dataframe tbody tr th {\n",
       "        vertical-align: top;\n",
       "    }\n",
       "\n",
       "    .dataframe thead th {\n",
       "        text-align: right;\n",
       "    }\n",
       "</style>\n",
       "<table border=\"1\" class=\"dataframe\">\n",
       "  <thead>\n",
       "    <tr style=\"text-align: right;\">\n",
       "      <th></th>\n",
       "      <th>missing</th>\n",
       "    </tr>\n",
       "  </thead>\n",
       "  <tbody>\n",
       "    <tr>\n",
       "      <td>average_household_income</td>\n",
       "      <td>886</td>\n",
       "    </tr>\n",
       "    <tr>\n",
       "      <td>gini_index</td>\n",
       "      <td>847</td>\n",
       "    </tr>\n",
       "    <tr>\n",
       "      <td>land_area</td>\n",
       "      <td>24</td>\n",
       "    </tr>\n",
       "    <tr>\n",
       "      <td>per_capita_income</td>\n",
       "      <td>643</td>\n",
       "    </tr>\n",
       "    <tr>\n",
       "      <td>population_density</td>\n",
       "      <td>316</td>\n",
       "    </tr>\n",
       "  </tbody>\n",
       "</table>\n",
       "</div>"
      ],
      "text/plain": [
       "                          missing\n",
       "average_household_income      886\n",
       "gini_index                    847\n",
       "land_area                      24\n",
       "per_capita_income             643\n",
       "population_density            316"
      ]
     },
     "execution_count": 40,
     "metadata": {},
     "output_type": "execute_result"
    }
   ],
   "source": [
    "nulls = pd.DataFrame(df.isna().sum())\n",
    "nulls.columns = [\"missing\"]\n",
    "nulls[nulls['missing']>0].head()"
   ]
  },
  {
   "cell_type": "code",
   "execution_count": 41,
   "metadata": {},
   "outputs": [],
   "source": [
    "# drop all missing values\n",
    "df = df.dropna(axis = 0)"
   ]
  },
  {
   "cell_type": "code",
   "execution_count": 42,
   "metadata": {},
   "outputs": [
    {
     "data": {
      "text/plain": [
       "1    41601\n",
       "0    12498\n",
       "Name: has_tiles, dtype: int64"
      ]
     },
     "execution_count": 42,
     "metadata": {},
     "output_type": "execute_result"
    }
   ],
   "source": [
    "# Check class imbalance\n",
    "df.has_tiles.value_counts()"
   ]
  },
  {
   "cell_type": "code",
   "execution_count": 43,
   "metadata": {},
   "outputs": [
    {
     "data": {
      "text/plain": [
       "130"
      ]
     },
     "execution_count": 43,
     "metadata": {},
     "output_type": "execute_result"
    }
   ],
   "source": [
    "len(df.columns)"
   ]
  },
  {
   "cell_type": "markdown",
   "metadata": {},
   "source": [
    "### Train test split"
   ]
  },
  {
   "cell_type": "code",
   "execution_count": 44,
   "metadata": {},
   "outputs": [],
   "source": [
    "X = df.drop('has_tiles', axis = 1)\n",
    "y = df['has_tiles']"
   ]
  },
  {
   "cell_type": "code",
   "execution_count": 45,
   "metadata": {},
   "outputs": [
    {
     "data": {
      "text/plain": [
       "['average_household_income',\n",
       " 'education_bachelor',\n",
       " 'education_college',\n",
       " 'education_doctoral',\n",
       " 'education_high_school_graduate',\n",
       " 'education_less_than_high_school',\n",
       " 'education_master',\n",
       " 'education_population',\n",
       " 'education_professional_school',\n",
       " 'employed',\n",
       " 'gini_index',\n",
       " 'heating_fuel_coal_coke',\n",
       " 'heating_fuel_electricity',\n",
       " 'heating_fuel_fuel_oil_kerosene',\n",
       " 'heating_fuel_gas',\n",
       " 'heating_fuel_housing_unit_count',\n",
       " 'heating_fuel_none',\n",
       " 'heating_fuel_other',\n",
       " 'heating_fuel_solar',\n",
       " 'land_area',\n",
       " 'per_capita_income',\n",
       " 'population',\n",
       " 'population_density',\n",
       " 'poverty_family_below_poverty_level',\n",
       " 'poverty_family_count',\n",
       " 'race_asian',\n",
       " 'race_black_africa',\n",
       " 'race_indian_alaska',\n",
       " 'race_islander',\n",
       " 'race_other',\n",
       " 'race_two_more',\n",
       " 'race_white',\n",
       " 'total_area',\n",
       " 'unemployed',\n",
       " 'water_area',\n",
       " 'employ_rate',\n",
       " 'poverty_family_below_poverty_level_rate',\n",
       " 'median_household_income',\n",
       " 'electricity_price_residential',\n",
       " 'electricity_price_commercial',\n",
       " 'electricity_price_industrial',\n",
       " 'electricity_price_overall',\n",
       " 'electricity_consume_residential',\n",
       " 'electricity_consume_commercial',\n",
       " 'electricity_consume_industrial',\n",
       " 'electricity_consume_total',\n",
       " 'household_count',\n",
       " 'average_household_size',\n",
       " 'housing_unit_count',\n",
       " 'housing_unit_occupied_count',\n",
       " 'housing_unit_median_value',\n",
       " 'housing_unit_median_gross_rent',\n",
       " 'lat',\n",
       " 'lon',\n",
       " 'elevation',\n",
       " 'heating_design_temperature',\n",
       " 'cooling_design_temperature',\n",
       " 'earth_temperature_amplitude',\n",
       " 'frost_days',\n",
       " 'air_temperature',\n",
       " 'relative_humidity',\n",
       " 'daily_solar_radiation',\n",
       " 'atmospheric_pressure',\n",
       " 'wind_speed',\n",
       " 'earth_temperature',\n",
       " 'heating_degree_days',\n",
       " 'cooling_degree_days',\n",
       " 'age_18_24_rate',\n",
       " 'age_25_34_rate',\n",
       " 'age_more_than_85_rate',\n",
       " 'age_75_84_rate',\n",
       " 'age_35_44_rate',\n",
       " 'age_45_54_rate',\n",
       " 'age_65_74_rate',\n",
       " 'age_55_64_rate',\n",
       " 'age_10_14_rate',\n",
       " 'age_15_17_rate',\n",
       " 'age_5_9_rate',\n",
       " 'household_type_family_rate',\n",
       " 'dropout_16_19_inschool_rate',\n",
       " 'occupation_construction_rate',\n",
       " 'occupation_public_rate',\n",
       " 'occupation_information_rate',\n",
       " 'occupation_finance_rate',\n",
       " 'occupation_education_rate',\n",
       " 'occupation_administrative_rate',\n",
       " 'occupation_manufacturing_rate',\n",
       " 'occupation_wholesale_rate',\n",
       " 'occupation_retail_rate',\n",
       " 'occupation_transportation_rate',\n",
       " 'occupation_arts_rate',\n",
       " 'occupation_agriculture_rate',\n",
       " 'occupancy_vacant_rate',\n",
       " 'occupancy_owner_rate',\n",
       " 'mortgage_with_rate',\n",
       " 'transportation_home_rate',\n",
       " 'transportation_car_alone_rate',\n",
       " 'transportation_walk_rate',\n",
       " 'transportation_carpool_rate',\n",
       " 'transportation_motorcycle_rate',\n",
       " 'transportation_bicycle_rate',\n",
       " 'transportation_public_rate',\n",
       " 'travel_time_less_than_10_rate',\n",
       " 'travel_time_10_19_rate',\n",
       " 'travel_time_20_29_rate',\n",
       " 'travel_time_30_39_rate',\n",
       " 'travel_time_40_59_rate',\n",
       " 'travel_time_60_89_rate',\n",
       " 'health_insurance_public_rate',\n",
       " 'health_insurance_none_rate',\n",
       " 'age_median',\n",
       " 'travel_time_average',\n",
       " 'voting_2016_dem_percentage',\n",
       " 'voting_2016_gop_percentage',\n",
       " 'voting_2012_dem_percentage',\n",
       " 'voting_2012_gop_percentage',\n",
       " 'number_of_years_of_education',\n",
       " 'diversity',\n",
       " 'incentive_count_residential',\n",
       " 'incentive_count_nonresidential',\n",
       " 'incentive_residential_state_level',\n",
       " 'incentive_nonresidential_state_level',\n",
       " 'net_metering',\n",
       " 'feedin_tariff',\n",
       " 'cooperate_tax',\n",
       " 'property_tax',\n",
       " 'sales_tax',\n",
       " 'rebate',\n",
       " 'avg_electricity_retail_rate']"
      ]
     },
     "execution_count": 45,
     "metadata": {},
     "output_type": "execute_result"
    }
   ],
   "source": [
    "list(X.columns)"
   ]
  },
  {
   "cell_type": "code",
   "execution_count": 46,
   "metadata": {},
   "outputs": [
    {
     "data": {
      "text/plain": [
       "(54099, 130)"
      ]
     },
     "execution_count": 46,
     "metadata": {},
     "output_type": "execute_result"
    }
   ],
   "source": [
    "df.shape"
   ]
  },
  {
   "cell_type": "code",
   "execution_count": 47,
   "metadata": {},
   "outputs": [],
   "source": [
    "X_train, X_test, y_train, y_test = train_test_split(X, y, test_size = 0.2, stratify = y)"
   ]
  },
  {
   "cell_type": "markdown",
   "metadata": {},
   "source": [
    "### SMOTE!"
   ]
  },
  {
   "cell_type": "code",
   "execution_count": 48,
   "metadata": {},
   "outputs": [
    {
     "name": "stdout",
     "output_type": "stream",
     "text": [
      "1    33281\n",
      "0    33281\n",
      "Name: has_tiles, dtype: int64 \n",
      "\n",
      " 1    8320\n",
      "0    2500\n",
      "Name: has_tiles, dtype: int64\n"
     ]
    }
   ],
   "source": [
    "smt = SMOTE()\n",
    "Xtrain, ytrain = smt.fit_sample(X_train, y_train)\n",
    "print(ytrain.value_counts(),'\\n\\n', y_test.value_counts())"
   ]
  },
  {
   "cell_type": "markdown",
   "metadata": {},
   "source": [
    "### Scale Data "
   ]
  },
  {
   "cell_type": "code",
   "execution_count": 49,
   "metadata": {},
   "outputs": [],
   "source": [
    "scaler = StandardScaler()\n",
    "X_train = scaler.fit_transform(Xtrain)\n",
    "X_test = scaler.transform(X_test)"
   ]
  },
  {
   "cell_type": "code",
   "execution_count": 50,
   "metadata": {},
   "outputs": [
    {
     "data": {
      "text/plain": [
       "(66562, 129)"
      ]
     },
     "execution_count": 50,
     "metadata": {},
     "output_type": "execute_result"
    }
   ],
   "source": [
    "X_train.shape"
   ]
  },
  {
   "cell_type": "markdown",
   "metadata": {},
   "source": [
    "### Model"
   ]
  },
  {
   "cell_type": "code",
   "execution_count": 60,
   "metadata": {},
   "outputs": [],
   "source": [
    "from sklearn.metrics import confusion_matrix\n",
    "from sklearn.metrics import classification_report"
   ]
  },
  {
   "cell_type": "code",
   "execution_count": 58,
   "metadata": {},
   "outputs": [
    {
     "data": {
      "text/plain": [
       "DecisionTreeClassifier(ccp_alpha=0.0, class_weight=None, criterion='gini',\n",
       "                       max_depth=None, max_features=None, max_leaf_nodes=None,\n",
       "                       min_impurity_decrease=0.0, min_impurity_split=None,\n",
       "                       min_samples_leaf=1, min_samples_split=2,\n",
       "                       min_weight_fraction_leaf=0.0, presort='deprecated',\n",
       "                       random_state=None, splitter='best')"
      ]
     },
     "execution_count": 58,
     "metadata": {},
     "output_type": "execute_result"
    }
   ],
   "source": [
    "## DUMMY\n",
    "dummy = DecisionTreeClassifier()\n",
    "dummy.fit(X_train, ytrain)"
   ]
  },
  {
   "cell_type": "code",
   "execution_count": 59,
   "metadata": {},
   "outputs": [],
   "source": [
    "y_pred = dummy.predict(X_test)"
   ]
  },
  {
   "cell_type": "code",
   "execution_count": 62,
   "metadata": {},
   "outputs": [
    {
     "name": "stdout",
     "output_type": "stream",
     "text": [
      "              precision    recall  f1-score   support\n",
      "\n",
      "           0       0.45      0.55      0.50      2500\n",
      "           1       0.86      0.80      0.83      8320\n",
      "\n",
      "    accuracy                           0.74     10820\n",
      "   macro avg       0.65      0.68      0.66     10820\n",
      "weighted avg       0.76      0.74      0.75     10820\n",
      "\n"
     ]
    }
   ],
   "source": [
    "print(classification_report(y_test, y_pred))"
   ]
  },
  {
   "cell_type": "markdown",
   "metadata": {},
   "source": [
    "Vanilla decision tree is 0.74 accuracy."
   ]
  },
  {
   "cell_type": "code",
   "execution_count": 52,
   "metadata": {},
   "outputs": [],
   "source": [
    "dt = find_hyperparameters(pipe_dt, params_dt, X_train, ytrain)"
   ]
  },
  {
   "cell_type": "code",
   "execution_count": 54,
   "metadata": {},
   "outputs": [],
   "source": [
    "dt.best_params_\n",
    "best_dt = dt.best_estimator_\n",
    "# Decision Tree: {'dt__max_depth': 2, 'dt__min_samples_leaf': 1, 'dt__min_samples_split': 2}"
   ]
  },
  {
   "cell_type": "code",
   "execution_count": 57,
   "metadata": {},
   "outputs": [
    {
     "data": {
      "text/plain": [
       "0.755637707948244"
      ]
     },
     "execution_count": 57,
     "metadata": {},
     "output_type": "execute_result"
    }
   ],
   "source": [
    "best_dt.fit(X_train, ytrain)\n",
    "best_dt.score(X_test, y_test)\n",
    "# Decision Tree: 0.755637707948244"
   ]
  },
  {
   "cell_type": "code",
   "execution_count": 56,
   "metadata": {},
   "outputs": [
    {
     "name": "stderr",
     "output_type": "stream",
     "text": [
      "C:\\Users\\allis\\Anaconda3\\lib\\site-packages\\sklearn\\base.py:197: FutureWarning: From version 0.24, get_params will raise an AttributeError if a parameter cannot be retrieved as an instance attribute. Previously it would return None.\n",
      "  FutureWarning)\n",
      "C:\\Users\\allis\\Anaconda3\\lib\\site-packages\\yellowbrick\\classifier\\base.py:232: YellowbrickWarning: could not determine class_counts_ from previously fitted classifier\n",
      "  YellowbrickWarning,\n"
     ]
    },
    {
     "data": {
      "image/png": "[encoded data removed]",
      "text/plain": [
       "<Figure size 432x288 with 1 Axes>"
      ]
     },
     "metadata": {
      "needs_background": "light"
     },
     "output_type": "display_data"
    },
    {
     "data": {
      "text/plain": [
       "<matplotlib.axes._subplots.AxesSubplot at 0x2724c34f6c8>"
      ]
     },
     "execution_count": 56,
     "metadata": {},
     "output_type": "execute_result"
    }
   ],
   "source": [
    "cm = ConfusionMatrix(best_dt)\n",
    "cm.score(X_test, y_test)\n",
    "cm.poof()"
   ]
  },
  {
   "cell_type": "code",
   "execution_count": null,
   "metadata": {},
   "outputs": [],
   "source": [
    "### Random Forests\n",
    "rf = find_hyperparameters(pipe_rf, params_rf, X_train, ytrain)"
   ]
  },
  {
   "cell_type": "markdown",
   "metadata": {},
   "source": [
    "### Steps for Modeling"
   ]
  },
  {
   "cell_type": "markdown",
   "metadata": {},
   "source": [
    "\n",
    "Gridsearch:\n",
    "Try -  All our variables in logisitic regression\n",
    " - params: C and penalty\n",
    " \n",
    "Gridsearch:\n",
    "Try - All variables in decision trees\n",
    " - params: max_depth (5, 8, 15, 25, 30), min_samples_split (1, 2, 5, 10, 15, 100), min_samples_leaf (1, 2, 5, 10)\n",
    " - max_depth : how deep the tree is\n",
    " - min_samples_split: minimum number of samples required to split an internal node\n",
    " - min_samples_leaf: he minimum number of samples that we want a leaf node to contain\n",
    "\n",
    "\n",
    "Try - Random forest\n",
    " - params: n_estimators (120, 300, 500, 800), max_depth(5, 8, 15, 25, 30), min_samples_split(1, 2, 5, 10, 15, 100), min_samples_leaf(1, 2, 5, 10), max_features (log2, sqrt, None)\n",
    "\n",
    "Try - SVM\n",
    " - params: C(.001, .01, 0.1, 1, 10, 100, 1000), gamma ('auto','scale'), class_weight ('balanced', None)\n",
    "\n",
    "Try - KNN\n",
    " - params: n_neighbors (2, 4, 8, 16), p (2,3)\n",
    "\n",
    "Then try all again with PCA\n"
   ]
  },
  {
   "cell_type": "code",
   "execution_count": 12,
   "metadata": {},
   "outputs": [],
   "source": [
    "from sklearn.pipeline import Pipeline"
   ]
  },
  {
   "cell_type": "code",
   "execution_count": 80,
   "metadata": {},
   "outputs": [
    {
     "data": {
      "text/plain": [
       "GridSearchCV(cv=5, error_score=nan,\n",
       "             estimator=DecisionTreeClassifier(ccp_alpha=0.0, class_weight=None,\n",
       "                                              criterion='gini', max_depth=None,\n",
       "                                              max_features=None,\n",
       "                                              max_leaf_nodes=None,\n",
       "                                              min_impurity_decrease=0.0,\n",
       "                                              min_impurity_split=None,\n",
       "                                              min_samples_leaf=1,\n",
       "                                              min_samples_split=2,\n",
       "                                              min_weight_fraction_leaf=0.0,\n",
       "                                              presort='deprecated',\n",
       "                                              random_state=None,\n",
       "                                              splitter='best'),\n",
       "             iid='deprecated', n_jobs=None,\n",
       "             param_grid={'max_depth': [2, 3, 4, 5, 8],\n",
       "                         'min_samples_leaf': [1, 2, 5, 10],\n",
       "                         'min_samples_split': [2, 5, 10, 15, 100]},\n",
       "             pre_dispatch='2*n_jobs', refit=True, return_train_score=False,\n",
       "             scoring=None, verbose=0)"
      ]
     },
     "execution_count": 80,
     "metadata": {},
     "output_type": "execute_result"
    }
   ],
   "source": [
    "# Decision Tree Classifier\n",
    "parameters = {'max_depth':[2, 3, 4, 5, 8], 'min_samples_split':[2, 5, 10, 15, 100], 'min_samples_leaf':[1, 2, 5, 10]}\n",
    "dt = GridSearchCV(DecisionTreeClassifier(), parameters, cv = 5)\n",
    "dt.fit(X_train, ytrain)\n",
    "dt.best_params_"
   ]
  },
  {
   "cell_type": "code",
   "execution_count": 81,
   "metadata": {},
   "outputs": [
    {
     "data": {
      "text/plain": [
       "{'max_depth': 2, 'min_samples_leaf': 1, 'min_samples_split': 2}"
      ]
     },
     "execution_count": 81,
     "metadata": {},
     "output_type": "execute_result"
    }
   ],
   "source": [
    "dt.best_params_"
   ]
  },
  {
   "cell_type": "code",
   "execution_count": null,
   "metadata": {},
   "outputs": [],
   "source": []
  }
 ],
 "metadata": {
  "kernelspec": {
   "display_name": "base",
   "language": "python",
   "name": "base"
  },
  "language_info": {
   "codemirror_mode": {
    "name": "ipython",
    "version": 3
   },
   "file_extension": ".py",
   "mimetype": "text/x-python",
   "name": "python",
   "nbconvert_exporter": "python",
   "pygments_lexer": "ipython3",
   "version": "3.7.4"
  }
 },
 "nbformat": 4,
 "nbformat_minor": 4
}
