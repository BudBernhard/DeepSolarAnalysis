{
 "cells": [
  {
   "cell_type": "code",
   "execution_count": 1,
   "metadata": {},
   "outputs": [
    {
     "name": "stderr",
     "output_type": "stream",
     "text": [
      "C:\\Users\\BudBe\\AppData\\Roaming\\Python\\Python37\\site-packages\\sklearn\\utils\\deprecation.py:144: FutureWarning: The sklearn.metrics.classification module is  deprecated in version 0.22 and will be removed in version 0.24. The corresponding classes / functions should instead be imported from sklearn.metrics. Anything that cannot be imported from sklearn.metrics is now part of the private API.\n",
      "  warnings.warn(message, FutureWarning)\n"
     ]
    }
   ],
   "source": [
    "import pandas as pd\n",
    "import matplotlib.pyplot as plt\n",
    "import numpy as np\n",
    "## for correlation matrices\n",
    "import seaborn as sns\n",
    "%matplotlib inline\n",
    "## for linear models\n",
    "import statsmodels.api as sm\n",
    "from pandas.plotting import scatter_matrix\n",
    "from sklearn.metrics import roc_curve, auc\n",
    "\n",
    "from sklearn.model_selection import train_test_split\n",
    "from sklearn.linear_model import LogisticRegression\n",
    "from sklearn.model_selection import GridSearchCV\n",
    "from yellowbrick.classifier import ConfusionMatrix\n",
    "\n",
    "\n",
    "from sklearn.preprocessing import StandardScaler\n",
    "from sklearn.feature_selection import SelectFromModel\n",
    "from sklearn import preprocessing\n",
    "\n",
    "from imblearn.over_sampling import SMOTE\n",
    "\n",
    "from sklearn.metrics import classification_report\n",
    "\n"
   ]
  },
  {
   "cell_type": "code",
   "execution_count": 2,
   "metadata": {},
   "outputs": [],
   "source": [
    "# Must download from http://web.stanford.edu/group/deepsolar/deepsolar_tract.csv and delete the first \",\"\n",
    "df = pd.read_csv(\"deepsolar_tract.csv\", encoding = \"utf-8\")\n"
   ]
  },
  {
   "cell_type": "code",
   "execution_count": 3,
   "metadata": {},
   "outputs": [],
   "source": [
    "# Remove all deepsolar inputs\n",
    "\n",
    "df = df.drop(columns=['solar_system_count'], axis = 1)\n",
    "df = df.drop(columns=['total_panel_area'], axis = 1)\n",
    "df = df.drop(columns=['solar_panel_area_per_capita'], axis =1)\n",
    "\n",
    "df = df.drop(columns=['solar_panel_area_divided_by_area'], axis = 1)\n",
    "df = df.drop(columns=['tile_count_residential'], axis = 1)\n",
    "df = df.drop(columns=['tile_count_nonresidential'], axis = 1)\n",
    "df = df.drop(columns=['solar_system_count_residential'], axis =1)\n",
    "\n",
    "df = df.drop(columns=['solar_system_count_nonresidential'], axis = 1)\n",
    "df = df.drop(columns=['total_panel_area_residential'], axis = 1)\n",
    "df = df.drop(columns=['total_panel_area_nonresidential'], axis = 1)\n",
    "df = df.drop(columns=['number_of_solar_system_per_household'], axis =1)\n",
    "\n",
    "# Remove all unique identifiers, objects, and booleans\n",
    "df = df.drop(columns=['county',\n",
    "                      'state',\n",
    "                     'electricity_price_transportation',\n",
    "                     'voting_2016_dem_win',\n",
    "                     'voting_2012_dem_win',\n",
    "                     'fips'])\n",
    "\n"
   ]
  },
  {
   "cell_type": "code",
   "execution_count": 4,
   "metadata": {},
   "outputs": [],
   "source": [
    "df['has_tiles'] = (df.tile_count > 0).mul(1)"
   ]
  },
  {
   "cell_type": "code",
   "execution_count": 5,
   "metadata": {},
   "outputs": [],
   "source": [
    "df = df.drop('tile_count', axis = 1)"
   ]
  },
  {
   "cell_type": "code",
   "execution_count": 7,
   "metadata": {},
   "outputs": [],
   "source": [
    "df = df.dropna()"
   ]
  },
  {
   "cell_type": "code",
   "execution_count": 9,
   "metadata": {},
   "outputs": [
    {
     "name": "stdout",
     "output_type": "stream",
     "text": [
      "1    31209\n",
      "0    31209\n",
      "Name: has_tiles, dtype: int64 \n",
      "\n",
      " 1    10392\n",
      "0     3133\n",
      "Name: has_tiles, dtype: int64\n"
     ]
    }
   ],
   "source": [
    "# Define X and y\n",
    "y = df['has_tiles']\n",
    "X = df.drop('has_tiles', axis = 1)\n",
    "# Split the data into training and test sets\n",
    "# from sklearn.model_selection import train_test_split\n",
    "\n",
    "#ADD STRATIFIED HERE\n",
    "\n",
    "X_train, X_test, y_train, y_test = train_test_split(X, y, random_state=17)\n",
    "#print(y_train.value_counts(),'\\n\\n', y_test.value_counts())\n",
    "\n",
    "# SMOTE\n",
    "smt = SMOTE()\n",
    "X_train, y_train = smt.fit_sample(X_train, y_train)\n",
    "print(y_train.value_counts(),'\\n\\n', y_test.value_counts())"
   ]
  },
  {
   "cell_type": "code",
   "execution_count": 14,
   "metadata": {},
   "outputs": [],
   "source": [
    "scaler = StandardScaler()\n",
    "X_train = scaler.fit_transform(X_train)\n",
    "X_test = scaler.transform(X_test)"
   ]
  },
  {
   "cell_type": "code",
   "execution_count": 15,
   "metadata": {},
   "outputs": [
    {
     "name": "stderr",
     "output_type": "stream",
     "text": [
      "C:\\Users\\BudBe\\AppData\\Roaming\\Python\\Python37\\site-packages\\sklearn\\linear_model\\_sag.py:330: ConvergenceWarning: The max_iter was reached which means the coef_ did not converge\n",
      "  \"the coef_ did not converge\", ConvergenceWarning)\n",
      "C:\\Users\\BudBe\\AppData\\Roaming\\Python\\Python37\\site-packages\\sklearn\\linear_model\\_sag.py:330: ConvergenceWarning: The max_iter was reached which means the coef_ did not converge\n",
      "  \"the coef_ did not converge\", ConvergenceWarning)\n",
      "C:\\Users\\BudBe\\AppData\\Roaming\\Python\\Python37\\site-packages\\sklearn\\linear_model\\_sag.py:330: ConvergenceWarning: The max_iter was reached which means the coef_ did not converge\n",
      "  \"the coef_ did not converge\", ConvergenceWarning)\n",
      "C:\\Users\\BudBe\\AppData\\Roaming\\Python\\Python37\\site-packages\\sklearn\\linear_model\\_sag.py:330: ConvergenceWarning: The max_iter was reached which means the coef_ did not converge\n",
      "  \"the coef_ did not converge\", ConvergenceWarning)\n",
      "C:\\Users\\BudBe\\AppData\\Roaming\\Python\\Python37\\site-packages\\sklearn\\linear_model\\_sag.py:330: ConvergenceWarning: The max_iter was reached which means the coef_ did not converge\n",
      "  \"the coef_ did not converge\", ConvergenceWarning)\n",
      "C:\\Users\\BudBe\\AppData\\Roaming\\Python\\Python37\\site-packages\\sklearn\\linear_model\\_sag.py:330: ConvergenceWarning: The max_iter was reached which means the coef_ did not converge\n",
      "  \"the coef_ did not converge\", ConvergenceWarning)\n"
     ]
    },
    {
     "data": {
      "text/plain": [
       "GridSearchCV(cv=5, error_score=nan,\n",
       "             estimator=LogisticRegression(C=1.0, class_weight=None, dual=False,\n",
       "                                          fit_intercept=True,\n",
       "                                          intercept_scaling=1, l1_ratio=None,\n",
       "                                          max_iter=100, multi_class='auto',\n",
       "                                          n_jobs=None, penalty='l2',\n",
       "                                          random_state=None, solver='saga',\n",
       "                                          tol=0.0001, verbose=0,\n",
       "                                          warm_start=False),\n",
       "             iid='deprecated', n_jobs=None,\n",
       "             param_grid={'C': [0.001, 0.005, 0.0005, 0.0009],\n",
       "                         'penalty': ['l1', 'l2']},\n",
       "             pre_dispatch='2*n_jobs', refit=True, return_train_score=False,\n",
       "             scoring=None, verbose=0)"
      ]
     },
     "execution_count": 15,
     "metadata": {},
     "output_type": "execute_result"
    }
   ],
   "source": [
    "parameters = {'penalty':['l1', 'l2'], 'C':[.001, .005, .0005, .0009]}\n",
    "#clf = classifier\n",
    "clf = GridSearchCV(LogisticRegression(solver='saga'), parameters, cv = 5)\n",
    "clf.fit(X_train, y_train)"
   ]
  },
  {
   "cell_type": "code",
   "execution_count": 16,
   "metadata": {},
   "outputs": [],
   "source": [
    "best_clf=clf.best_estimator_"
   ]
  },
  {
   "cell_type": "code",
   "execution_count": 17,
   "metadata": {},
   "outputs": [
    {
     "data": {
      "text/plain": [
       "0.7696857670979668"
      ]
     },
     "execution_count": 17,
     "metadata": {},
     "output_type": "execute_result"
    }
   ],
   "source": [
    "#fit the data using the best model and look at the score given test data\n",
    "best_clf.fit(X_train, y_train)\n",
    "best_clf.score(X_test, y_test)"
   ]
  },
  {
   "cell_type": "code",
   "execution_count": 18,
   "metadata": {},
   "outputs": [
    {
     "name": "stderr",
     "output_type": "stream",
     "text": [
      "C:\\Users\\BudBe\\AppData\\Roaming\\Python\\Python37\\site-packages\\sklearn\\base.py:197: FutureWarning: From version 0.24, get_params will raise an AttributeError if a parameter cannot be retrieved as an instance attribute. Previously it would return None.\n",
      "  FutureWarning)\n",
      "C:\\ProgramData\\Anaconda3\\lib\\site-packages\\yellowbrick\\classifier\\base.py:232: YellowbrickWarning: could not determine class_counts_ from previously fitted classifier\n",
      "  YellowbrickWarning,\n"
     ]
    },
    {
     "data": {
      "image/png": "[encoded data removed]",
      "text/plain": [
       "<Figure size 432x288 with 1 Axes>"
      ]
     },
     "metadata": {
      "needs_background": "light"
     },
     "output_type": "display_data"
    },
    {
     "data": {
      "text/plain": [
       "<matplotlib.axes._subplots.AxesSubplot at 0x147d532e940>"
      ]
     },
     "execution_count": 18,
     "metadata": {},
     "output_type": "execute_result"
    }
   ],
   "source": [
    "cm = ConfusionMatrix(best_clf)\n",
    "\n",
    "# To create the ConfusionMatrix, we need some test data. Score runs predict() on the data\n",
    "# and then creates the confusion_matrix from scikit-learn.\n",
    "cm.score(X_test, y_test)\n",
    "\n",
    "# How did we do?\n",
    "cm.poof()"
   ]
  },
  {
   "cell_type": "code",
   "execution_count": 19,
   "metadata": {},
   "outputs": [
    {
     "name": "stdout",
     "output_type": "stream",
     "text": [
      "              precision    recall  f1-score   support\n",
      "\n",
      "           0       0.50      0.78      0.61      3133\n",
      "           1       0.92      0.77      0.84     10392\n",
      "\n",
      "    accuracy                           0.77     13525\n",
      "   macro avg       0.71      0.77      0.72     13525\n",
      "weighted avg       0.82      0.77      0.78     13525\n",
      "\n"
     ]
    }
   ],
   "source": [
    "y_pred=best_clf.predict(X_test)\n",
    "print(classification_report(y_test, y_pred))"
   ]
  },
  {
   "cell_type": "code",
   "execution_count": 46,
   "metadata": {},
   "outputs": [],
   "source": [
    "test = X_test[(y_test == 0) & (y_pred[:] == 1)]\n",
    "hello = pd.DataFrame(test)\n"
   ]
  },
  {
   "cell_type": "code",
   "execution_count": 49,
   "metadata": {},
   "outputs": [
    {
     "data": {
      "text/html": [
       "<div>\n",
       "<style scoped>\n",
       "    .dataframe tbody tr th:only-of-type {\n",
       "        vertical-align: middle;\n",
       "    }\n",
       "\n",
       "    .dataframe tbody tr th {\n",
       "        vertical-align: top;\n",
       "    }\n",
       "\n",
       "    .dataframe thead th {\n",
       "        text-align: right;\n",
       "    }\n",
       "</style>\n",
       "<table border=\"1\" class=\"dataframe\">\n",
       "  <thead>\n",
       "    <tr style=\"text-align: right;\">\n",
       "      <th></th>\n",
       "      <th>0</th>\n",
       "      <th>1</th>\n",
       "      <th>2</th>\n",
       "      <th>3</th>\n",
       "      <th>4</th>\n",
       "      <th>5</th>\n",
       "      <th>6</th>\n",
       "      <th>7</th>\n",
       "      <th>8</th>\n",
       "      <th>9</th>\n",
       "      <th>...</th>\n",
       "      <th>140</th>\n",
       "      <th>141</th>\n",
       "      <th>142</th>\n",
       "      <th>143</th>\n",
       "      <th>144</th>\n",
       "      <th>145</th>\n",
       "      <th>146</th>\n",
       "      <th>147</th>\n",
       "      <th>148</th>\n",
       "      <th>149</th>\n",
       "    </tr>\n",
       "  </thead>\n",
       "  <tbody>\n",
       "    <tr>\n",
       "      <th>0</th>\n",
       "      <td>0.022580</td>\n",
       "      <td>0.712985</td>\n",
       "      <td>1.859880</td>\n",
       "      <td>-0.554974</td>\n",
       "      <td>0.864903</td>\n",
       "      <td>0.087179</td>\n",
       "      <td>0.691065</td>\n",
       "      <td>1.295811</td>\n",
       "      <td>0.074465</td>\n",
       "      <td>1.330075</td>\n",
       "      <td>...</td>\n",
       "      <td>-0.131613</td>\n",
       "      <td>0.031694</td>\n",
       "      <td>-0.725382</td>\n",
       "      <td>-0.216983</td>\n",
       "      <td>-0.374377</td>\n",
       "      <td>-0.102047</td>\n",
       "      <td>-0.601401</td>\n",
       "      <td>-0.495724</td>\n",
       "      <td>-0.526502</td>\n",
       "      <td>-0.547864</td>\n",
       "    </tr>\n",
       "    <tr>\n",
       "      <th>1</th>\n",
       "      <td>-0.716522</td>\n",
       "      <td>-0.644868</td>\n",
       "      <td>0.589836</td>\n",
       "      <td>-0.411807</td>\n",
       "      <td>0.323629</td>\n",
       "      <td>0.453883</td>\n",
       "      <td>-0.694021</td>\n",
       "      <td>0.091786</td>\n",
       "      <td>0.137914</td>\n",
       "      <td>0.074963</td>\n",
       "      <td>...</td>\n",
       "      <td>0.187068</td>\n",
       "      <td>0.640279</td>\n",
       "      <td>0.580349</td>\n",
       "      <td>2.215166</td>\n",
       "      <td>-0.374377</td>\n",
       "      <td>-0.102047</td>\n",
       "      <td>0.386581</td>\n",
       "      <td>0.940909</td>\n",
       "      <td>-0.526502</td>\n",
       "      <td>-0.469219</td>\n",
       "    </tr>\n",
       "    <tr>\n",
       "      <th>2</th>\n",
       "      <td>0.434062</td>\n",
       "      <td>0.021803</td>\n",
       "      <td>0.425729</td>\n",
       "      <td>-0.554974</td>\n",
       "      <td>0.678175</td>\n",
       "      <td>0.898102</td>\n",
       "      <td>0.190375</td>\n",
       "      <td>0.702358</td>\n",
       "      <td>0.975444</td>\n",
       "      <td>0.788716</td>\n",
       "      <td>...</td>\n",
       "      <td>-0.397180</td>\n",
       "      <td>-0.171167</td>\n",
       "      <td>-0.507760</td>\n",
       "      <td>-0.548640</td>\n",
       "      <td>-0.374377</td>\n",
       "      <td>-0.102047</td>\n",
       "      <td>-0.107410</td>\n",
       "      <td>-0.495724</td>\n",
       "      <td>-0.526502</td>\n",
       "      <td>-0.661899</td>\n",
       "    </tr>\n",
       "    <tr>\n",
       "      <th>3</th>\n",
       "      <td>0.589378</td>\n",
       "      <td>-0.007609</td>\n",
       "      <td>-1.346149</td>\n",
       "      <td>-0.411807</td>\n",
       "      <td>-1.527103</td>\n",
       "      <td>-0.956288</td>\n",
       "      <td>0.227810</td>\n",
       "      <td>-1.232071</td>\n",
       "      <td>-0.001674</td>\n",
       "      <td>-0.942582</td>\n",
       "      <td>...</td>\n",
       "      <td>0.027728</td>\n",
       "      <td>1.857449</td>\n",
       "      <td>1.233215</td>\n",
       "      <td>0.667435</td>\n",
       "      <td>-0.374377</td>\n",
       "      <td>-0.102047</td>\n",
       "      <td>1.312813</td>\n",
       "      <td>0.940909</td>\n",
       "      <td>1.300826</td>\n",
       "      <td>1.835072</td>\n",
       "    </tr>\n",
       "    <tr>\n",
       "      <th>4</th>\n",
       "      <td>-0.211035</td>\n",
       "      <td>0.492395</td>\n",
       "      <td>0.204542</td>\n",
       "      <td>0.465085</td>\n",
       "      <td>-0.118372</td>\n",
       "      <td>0.090160</td>\n",
       "      <td>0.377549</td>\n",
       "      <td>0.298843</td>\n",
       "      <td>-0.077813</td>\n",
       "      <td>0.392420</td>\n",
       "      <td>...</td>\n",
       "      <td>-0.875201</td>\n",
       "      <td>-1.185475</td>\n",
       "      <td>-1.378247</td>\n",
       "      <td>-1.543609</td>\n",
       "      <td>-0.374377</td>\n",
       "      <td>-0.102047</td>\n",
       "      <td>-0.724898</td>\n",
       "      <td>-0.495724</td>\n",
       "      <td>-0.526502</td>\n",
       "      <td>-0.543932</td>\n",
       "    </tr>\n",
       "  </tbody>\n",
       "</table>\n",
       "<p>5 rows × 150 columns</p>\n",
       "</div>"
      ],
      "text/plain": [
       "        0         1         2         3         4         5         6    \\\n",
       "0  0.022580  0.712985  1.859880 -0.554974  0.864903  0.087179  0.691065   \n",
       "1 -0.716522 -0.644868  0.589836 -0.411807  0.323629  0.453883 -0.694021   \n",
       "2  0.434062  0.021803  0.425729 -0.554974  0.678175  0.898102  0.190375   \n",
       "3  0.589378 -0.007609 -1.346149 -0.411807 -1.527103 -0.956288  0.227810   \n",
       "4 -0.211035  0.492395  0.204542  0.465085 -0.118372  0.090160  0.377549   \n",
       "\n",
       "        7         8         9    ...       140       141       142       143  \\\n",
       "0  1.295811  0.074465  1.330075  ... -0.131613  0.031694 -0.725382 -0.216983   \n",
       "1  0.091786  0.137914  0.074963  ...  0.187068  0.640279  0.580349  2.215166   \n",
       "2  0.702358  0.975444  0.788716  ... -0.397180 -0.171167 -0.507760 -0.548640   \n",
       "3 -1.232071 -0.001674 -0.942582  ...  0.027728  1.857449  1.233215  0.667435   \n",
       "4  0.298843 -0.077813  0.392420  ... -0.875201 -1.185475 -1.378247 -1.543609   \n",
       "\n",
       "        144       145       146       147       148       149  \n",
       "0 -0.374377 -0.102047 -0.601401 -0.495724 -0.526502 -0.547864  \n",
       "1 -0.374377 -0.102047  0.386581  0.940909 -0.526502 -0.469219  \n",
       "2 -0.374377 -0.102047 -0.107410 -0.495724 -0.526502 -0.661899  \n",
       "3 -0.374377 -0.102047  1.312813  0.940909  1.300826  1.835072  \n",
       "4 -0.374377 -0.102047 -0.724898 -0.495724 -0.526502 -0.543932  \n",
       "\n",
       "[5 rows x 150 columns]"
      ]
     },
     "execution_count": 49,
     "metadata": {},
     "output_type": "execute_result"
    }
   ],
   "source": [
    "hello.head()"
   ]
  },
  {
   "cell_type": "code",
   "execution_count": null,
   "metadata": {},
   "outputs": [],
   "source": []
  }
 ],
 "metadata": {
  "kernelspec": {
   "display_name": "Python 3",
   "language": "python",
   "name": "python3"
  },
  "language_info": {
   "codemirror_mode": {
    "name": "ipython",
    "version": 3
   },
   "file_extension": ".py",
   "mimetype": "text/x-python",
   "name": "python",
   "nbconvert_exporter": "python",
   "pygments_lexer": "ipython3",
   "version": "3.7.3"
  }
 },
 "nbformat": 4,
 "nbformat_minor": 2
}
